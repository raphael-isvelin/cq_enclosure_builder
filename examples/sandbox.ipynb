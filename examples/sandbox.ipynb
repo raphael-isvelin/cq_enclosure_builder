{
 "cells": [
  {
   "cell_type": "code",
   "execution_count": 1,
   "id": "3b026132-c7f6-440f-8069-a9d518ba9cbb",
   "metadata": {},
   "outputs": [
    {
     "data": {
      "text/plain": [
       "'\\n   Copyright 2023 Raphaël Isvelin\\n\\n   Licensed under the Apache License, Version 2.0 (the \"License\");\\n   you may not use this file except in compliance with the License.\\n   You may obtain a copy of the License at\\n\\n       http://www.apache.org/licenses/LICENSE-2.0\\n\\n   Unless required by applicable law or agreed to in writing, software\\n   distributed under the License is distributed on an \"AS IS\" BASIS,\\n   WITHOUT WARRANTIES OR CONDITIONS OF ANY KIND, either express or implied.\\n   See the License for the specific language governing permissions and\\n   limitations under the License.\\n'"
      ]
     },
     "execution_count": 1,
     "metadata": {},
     "output_type": "execute_result"
    }
   ],
   "source": [
    "\"\"\"\n",
    "   Copyright 2023 Raphaël Isvelin\n",
    "\n",
    "   Licensed under the Apache License, Version 2.0 (the \"License\");\n",
    "   you may not use this file except in compliance with the License.\n",
    "   You may obtain a copy of the License at\n",
    "\n",
    "       http://www.apache.org/licenses/LICENSE-2.0\n",
    "\n",
    "   Unless required by applicable law or agreed to in writing, software\n",
    "   distributed under the License is distributed on an \"AS IS\" BASIS,\n",
    "   WITHOUT WARRANTIES OR CONDITIONS OF ANY KIND, either express or implied.\n",
    "   See the License for the specific language governing permissions and\n",
    "   limitations under the License.\n",
    "\"\"\""
   ]
  },
  {
   "cell_type": "markdown",
   "id": "8cb7d268-aa52-4f30-8766-a3aafc076b8e",
   "metadata": {},
   "source": [
    "## Jupyter CadQuery - Config and setup"
   ]
  },
  {
   "cell_type": "code",
   "execution_count": 2,
   "id": "7d65198e-cb76-4e12-abfd-802d2a73e25c",
   "metadata": {
    "tags": []
   },
   "outputs": [],
   "source": [
    "VIEWER_THEME = \"light\"  # light, dark\n",
    "VIEWER_HEIGHT = 900\n",
    "ENABLE_REPLAY = True"
   ]
  },
  {
   "cell_type": "code",
   "execution_count": 3,
   "id": "32bba4c5-9db0-462a-bc9a-74e5daeb9c54",
   "metadata": {
    "tags": []
   },
   "outputs": [
    {
     "name": "stdout",
     "output_type": "stream",
     "text": [
      "Overwriting auto display for cadquery Workplane and Shape\n",
      "\n",
      "Enabling jupyter_cadquery replay\n",
      "Note: To get rid of this warning, use 'enable_replay(False)'\n"
     ]
    }
   ],
   "source": [
    "import cadquery as cq\n",
    "\n",
    "from jupyter_cadquery import show as jcq_show\n",
    "from jupyter_cadquery import (\n",
    "    versions,\n",
    "    PartGroup, Part, \n",
    "    get_viewer, close_viewer, get_viewers, close_viewers, open_viewer, set_defaults, get_defaults, open_viewer, get_pick,\n",
    ")\n",
    "\n",
    "from jupyter_cadquery.replay import replay, enable_replay, disable_replay\n",
    "enable_replay(ENABLE_REPLAY)\n",
    "\n",
    "from cq_warehouse.fastener import (\n",
    "    polygon_diagonal,\n",
    "    read_fastener_parameters_from_csv,\n",
    "    Screw, SocketHeadCapScrew, HeatSetNut, PlainWasher,\n",
    "    HexNutWithFlange, HexHeadScrew, PanHeadScrew, CounterSunkScrew\n",
    ")\n",
    "import cq_warehouse.extensions"
   ]
  },
  {
   "cell_type": "markdown",
   "id": "82c53c8d-9a6f-4f59-ba1b-01de5a7ec45f",
   "metadata": {},
   "source": [
    "## show() improved"
   ]
  },
  {
   "cell_type": "code",
   "execution_count": 4,
   "id": "a843fee4-29f1-461f-804e-742f18c282e9",
   "metadata": {
    "tags": []
   },
   "outputs": [],
   "source": [
    "cv = open_viewer(\"Assembly\", anchor=\"right\")  # sets default viewer"
   ]
  },
  {
   "cell_type": "code",
   "execution_count": 5,
   "id": "d28e0b1d-2333-48a7-810d-f4ad5e92d330",
   "metadata": {
    "tags": []
   },
   "outputs": [],
   "source": [
    "objects_to_hide = [\n",
    "    \"/Masks\"\n",
    "]\n",
    "\n",
    "def hide_objects_matching_strings(strings, keep_edges=True, cv=cv):\n",
    "    for state in cv.widget.states:\n",
    "        should_hide = False\n",
    "        for s in strings:\n",
    "            if s in state:\n",
    "                should_hide = True\n",
    "                break\n",
    "        if should_hide:\n",
    "            cv.update_states({\n",
    "                state: (0, 0 if keep_edges else 0),\n",
    "            })"
   ]
  },
  {
   "cell_type": "code",
   "execution_count": 6,
   "id": "da8dd2d4-6e92-42e5-911e-6b32dbd43f90",
   "metadata": {
    "tags": []
   },
   "outputs": [],
   "source": [
    "def show(obj, viewer=\"Assembly\", anchor=\"right\", hide_contains=objects_to_hide):\n",
    "    cv = jcq_show(\n",
    "        obj,\n",
    "        viewer=viewer,\n",
    "        anchor=anchor,\n",
    "        #cad_width=1640,\n",
    "        height=VIEWER_HEIGHT,\n",
    "        theme=VIEWER_THEME,\n",
    "        collapse=1,\n",
    "        optimal_bb=True,\n",
    "        render_edges=True,\n",
    "        axes=True,\n",
    "        axes0=True,\n",
    "        grid=[True, True, True],\n",
    "        #black_edges=True,\n",
    "        reset_camera=False,\n",
    "        #show_parent=True,\n",
    "        #timeit=True,\n",
    "        #js_debug=True\n",
    "    )\n",
    "    hide_objects_matching_strings(hide_contains, cv=cv)\n",
    "\n",
    "def show_b(obj, viewer=\"Quick\", hide_contains=objects_to_hide):\n",
    "    cv2 = open_viewer(viewer, anchor=\"split-bottom\")\n",
    "    show(obj, viewer, anchor=\"split-bottom\", hide_contains=hide_contains)\n",
    "\n",
    "def show_x(obj, hide_contains=objects_to_hide):\n",
    "    show(obj, viewer=None, hide_contains=hide_contains)"
   ]
  },
  {
   "cell_type": "markdown",
   "id": "b5130ecf-ddb1-463b-86fb-4fd9b7eaf925",
   "metadata": {},
   "source": [
    "### Show part (debug)"
   ]
  },
  {
   "cell_type": "code",
   "execution_count": 7,
   "id": "97cb2b09-784e-4b28-a2eb-91437c10f9ea",
   "metadata": {},
   "outputs": [],
   "source": [
    "def show_part(part: Part, bottom=False):\n",
    "    footprint_assembly = (\n",
    "        cq.Assembly()\n",
    "            .add(part.debug_objects.footprint.inside, name=\"Inside\", color=cq.Color(1, 0, 1))\n",
    "            .add(part.debug_objects.footprint.outside, name=\"Outside\", color=cq.Color(0, 1, 1))\n",
    "    )\n",
    "    test_assembly = (\n",
    "        cq.Assembly(None, name=\"test_assembly\")\n",
    "            .add(part.mask, name=\"Mask\", color=cq.Color(0, 1, 0))\n",
    "            .add(part.part, name=\"Part\")\n",
    "            .add(part.assembly_parts_to_cq_assembly(), name=\"Part assembly\")\n",
    "            .add(footprint_assembly, name=\"Footprint\")\n",
    "    )\n",
    "    debug_assembly = cq.Assembly()\n",
    "    debug_assembly.add(part.debug_objects.hole, name=\"Hole\", color=cq.Color(1, 0, 0))\n",
    "    for debug_obj_name in part.debug_objects.others.keys():\n",
    "        obj = part.debug_objects.others[debug_obj_name]\n",
    "        if not isinstance(obj, dict):\n",
    "            debug_assembly.add(obj, name=debug_obj_name, color=cq.Color(0.5, 0.7, 0.5))\n",
    "    test_assembly.add(debug_assembly, name=\"Debug\")\n",
    "\n",
    "    if bottom: show_b(test_assembly)\n",
    "    else: show(test_assembly)"
   ]
  },
  {
   "cell_type": "code",
   "execution_count": 8,
   "id": "08d8fe53-d8f3-44b3-94a7-ab9e48ea31f2",
   "metadata": {
    "tags": []
   },
   "outputs": [],
   "source": [
    "import sys\n",
    "sys.path.append(\"../src\")\n",
    "\n",
    "from cq_enclosure_builder import PartFactory as pf\n",
    "from cq_enclosure_builder import Panel, PanelSize\n",
    "from cq_enclosure_builder import Enclosure, EnclosureSize, Face"
   ]
  },
  {
   "cell_type": "markdown",
   "id": "a267e482-d307-48ca-ac61-3841d3050e9d",
   "metadata": {},
   "source": [
    "## Sandbox / Testing"
   ]
  },
  {
   "cell_type": "code",
   "execution_count": 9,
   "id": "f54d1768-ffe3-4b38-ab39-26ec05257fff",
   "metadata": {
    "tags": []
   },
   "outputs": [
    {
     "name": "stdout",
     "output_type": "stream",
     "text": [
      "VALIDATING CLASS: UsbCChengHaoRanEPart\n",
      "VALIDATING CLASS: UsbCChengHaoRanEPart\n",
      "VALIDATING CLASS: UsbA30VerticalCltgxddPart\n",
      "VALIDATING CLASS: UsbA30VerticalCltgxddPart\n",
      "VALIDATING CLASS: ButtonSpstPbs24b4Part\n",
      "VALIDATING CLASS: EncoderEc11Part\n",
      "VALIDATING CLASS: Jack3_5mmXxxPart\n",
      "VALIDATING CLASS: Jack6_35mmPj612aPart\n",
      "TODO Need to move all workplanes so the hole's center is at 0,0\n",
      "VALIDATING CLASS: Hdmi5InchJrp5015Part\n",
      "VALIDATING CLASS: PotentiometerWh148Part\n",
      "VALIDATING CLASS: Banana4mmPart\n",
      "VALIDATING CLASS: BarrelPlugDc022bPart\n",
      "VALIDATING CLASS: RcaN1030Part\n"
     ]
    }
   ],
   "source": [
    "pf.set_default_types({\n",
    "    \"jack\": '6.35mm PJ-612A',\n",
    "    \"usb_a\": '3.0 vertical cltgxdd',\n",
    "    \"usb_c\": 'ChengHaoRan E',\n",
    "    \"button\": 'SPST PBS-24B-4',\n",
    "    \"encoder\": 'EC11',\n",
    "    \"screen\": 'HDMI 5 inch JRP5015',\n",
    "    \"potentiometer\": 'WH148',\n",
    "    \"banana\": '4mm',\n",
    "    \"barrel_plug\": 'DC-022B',\n",
    "    \"rca\": 'N1030',\n",
    "})\n",
    "pf.set_default_parameters({\n",
    "    \"enclosure_wall_thickness\": 2\n",
    "})\n",
    "\n",
    "usb_c = pf.build_usb_c()\n",
    "usb_c_v = pf.build_usb_c(orientation_vertical=True)\n",
    "usb_a = pf.build_usb_a()\n",
    "usb_a_v = pf.build_usb_a(orientation_vertical=True)\n",
    "spst = pf.build_button()\n",
    "encoder = pf.build_encoder() \n",
    "jack_35 = pf.build_jack(part_type='3.5mm XXX')\n",
    "jack_635 = pf.build_jack()\n",
    "screen = pf.build_screen()\n",
    "pot = pf.build_potentiometer()\n",
    "banana = pf.build_banana()\n",
    "barrel_plug = pf.build_barrel_plug()\n",
    "rca = pf.build_rca()\n"
   ]
  },
  {
   "cell_type": "code",
   "execution_count": 9,
   "id": "2513eb05-c135-4ea7-a96c-849e9e2e61a3",
   "metadata": {
    "tags": []
   },
   "outputs": [],
   "source": [
    "import sys\n",
    "sys.path.append(\"../src\")"
   ]
  },
  {
   "cell_type": "code",
   "execution_count": null,
   "id": "b1aa3832-7c40-4c16-96a7-1b7945869135",
   "metadata": {},
   "outputs": [],
   "source": []
  },
  {
   "cell_type": "code",
   "execution_count": null,
   "id": "96c77420-5ae1-44c8-82b2-19027a3d9526",
   "metadata": {},
   "outputs": [],
   "source": []
  },
  {
   "cell_type": "code",
   "execution_count": 9,
   "id": "e8b21a38-0df6-44e4-bea6-0486aa9d0b77",
   "metadata": {
    "tags": []
   },
   "outputs": [
    {
     "name": "stdout",
     "output_type": "stream",
     "text": [
      "TODO Need to move all workplanes so the hole's center is at 0,0\n",
      "VALIDATING CLASS: Hdmi5InchJrp5015Part\n",
      "[My project v1.0.0] TOP: adding part 'Screen'\n",
      "VALIDATING CLASS: ButtonSpstPbs24b4Part\n",
      "[My project v1.0.0] TOP: adding part 'SPST 3'\n",
      "VALIDATING CLASS: PyramidSupportPart\n",
      "[My project v1.0.0] BOTTOM: adding part 'Support SPST 3'\n",
      "VALIDATING CLASS: Jack3_5mmXxxPart\n",
      "[My project v1.0.0] BACK: adding part 'Js0'\n",
      "VALIDATING CLASS: Jack3_5mmXxxPart\n",
      "[My project v1.0.0] BACK: adding part 'Js1'\n",
      "VALIDATING CLASS: Jack3_5mmXxxPart\n",
      "[My project v1.0.0] BACK: adding part 'Js2'\n",
      "VALIDATING CLASS: Jack3_5mmXxxPart\n",
      "[My project v1.0.0] BACK: adding part 'Js3'\n",
      "VALIDATING CLASS: Jack6_35mmPj612aPart\n",
      "[My project v1.0.0] BACK: adding part 'Jb0'\n",
      "VALIDATING CLASS: Jack6_35mmPj612aPart\n",
      "[My project v1.0.0] BACK: adding part 'Jt0'\n",
      "VALIDATING CLASS: Jack6_35mmPj612aPart\n",
      "[My project v1.0.0] BACK: adding part 'Jb1'\n",
      "VALIDATING CLASS: Jack6_35mmPj612aPart\n",
      "[My project v1.0.0] BACK: adding part 'Jt1'\n",
      "VALIDATING CLASS: Jack6_35mmPj612aPart\n",
      "[My project v1.0.0] BACK: adding part 'Jb2'\n",
      "VALIDATING CLASS: Jack6_35mmPj612aPart\n",
      "[My project v1.0.0] BACK: adding part 'Jt2'\n",
      "VALIDATING CLASS: Jack6_35mmPj612aPart\n",
      "[My project v1.0.0] BACK: adding part 'Jb3'\n",
      "VALIDATING CLASS: Jack6_35mmPj612aPart\n",
      "[My project v1.0.0] BACK: adding part 'Jt3'\n",
      "VALIDATING CLASS: Jack6_35mmPj612aPart\n",
      "[My project v1.0.0] BACK: adding part 'Jb4'\n",
      "VALIDATING CLASS: Jack6_35mmPj612aPart\n",
      "[My project v1.0.0] BACK: adding part 'Jt4'\n",
      "VALIDATING CLASS: Jack6_35mmPj612aPart\n",
      "[My project v1.0.0] BACK: adding part 'Jb5'\n",
      "VALIDATING CLASS: Jack6_35mmPj612aPart\n",
      "[My project v1.0.0] BACK: adding part 'Jt5'\n",
      "VALIDATING CLASS: Jack6_35mmPj612aPart\n",
      "[My project v1.0.0] BACK: adding part 'Jb6'\n",
      "VALIDATING CLASS: Jack6_35mmPj612aPart\n",
      "[My project v1.0.0] BACK: adding part 'Jt6'\n",
      "VALIDATING CLASS: SkirtPart\n",
      "[My project v1.0.0] TOP: adding part 'Skirt'\n",
      "100% ⋮————————————————————————————————————————————————————————————⋮ (165/165)  3.29s\n"
     ]
    }
   ],
   "source": [
    "ENCLOSURE_INNER_WIDTH =  220\n",
    "ENCLOSURE_INNER_LENGTH = 150\n",
    "ENCLOSURE_OUTER_THICKNESS = 38\n",
    "ENCLOSURE_WALLS_THICKNESS = 2\n",
    "\n",
    "from cq_enclosure_builder import PartFactory as pf\n",
    "\n",
    "pf.set_default_types({\n",
    "    \"jack\": '6.35mm PJ-612A',\n",
    "    \"usb_a\": '3.0 vertical cltgxdd',\n",
    "    \"usb_c\": 'ChengHaoRan E',\n",
    "    \"button\": 'SPST PBS-24B-4',\n",
    "    \"encoder\": 'EC11',\n",
    "    \"screen\": 'HDMI 5 inch JRP5015',\n",
    "    \"air_vent\": 'basic rectangular',\n",
    "    \"potentiometer\": 'WH148',\n",
    "    \"banana\": '4mm',\n",
    "    \"barrel_plug\": 'DC-022B',\n",
    "    \"rca\": 'N1030',\n",
    "    \"support\": \"pyramid\"\n",
    "})\n",
    "pf.set_default_parameters({\n",
    "    \"enclosure_wall_thickness\": 2\n",
    "})\n",
    "\n",
    "enclosure_size = EnclosureSize(ENCLOSURE_INNER_WIDTH, ENCLOSURE_INNER_LENGTH, ENCLOSURE_OUTER_THICKNESS, ENCLOSURE_WALLS_THICKNESS)\n",
    "enclosure = Enclosure(enclosure_size)\n",
    "enclosure.add_part_to_face(Face.TOP, \"Screen\", pf.build_screen(), rel_pos=(0, -4))\n",
    "# enclosure.add_part_to_face(Face.TOP, \"SPST 1\", pf.build_button(), abs_pos=(20, 30))\n",
    "# enclosure.add_part_to_face(Face.TOP, \"SPST 2\", pf.build_button(), abs_pos=(20, 100))\n",
    "enclosure.add_part_to_face(Face.TOP, \"SPST 3\", pf.build_button(), abs_pos=(15, 10))\n",
    "enclosure.add_part_to_face(Face.BOTTOM, \"Support SPST 3\", pf.build_support(support_height=17), abs_pos=(15, ENCLOSURE_INNER_LENGTH-10-ENCLOSURE_WALLS_THICKNESS*2))\n",
    "# enclosure.add_part_to_face(Face.TOP, \"Encoder\", pf.build_encoder(), abs_pos=(200, 100))\n",
    "for i in range(0, 4):\n",
    "    enclosure.add_part_to_face(Face.BACK, f\"Js{i}\", pf.build_jack(part_type='3.5mm XXX'), abs_pos=(8, 4.5 + i*9))\n",
    "for i in range(0, 7):\n",
    "    enclosure.add_part_to_face(Face.BACK, f\"Jb{i}\", pf.build_jack(), abs_pos=(24 + i*18, 10))\n",
    "    enclosure.add_part_to_face(Face.BACK, f\"Jt{i}\", pf.build_jack(), abs_pos=(24 + i*18, 18+9))\n",
    "#enclosure.add_part_to_face(Face.BACK, \"USB\", pf.build_usb_a(), rel_pos=(0, 0))\n",
    "#enclosure.add_part_to_face(Face.BACK, \"USB V\", pf.build_usb_a(orientation_vertical=True), rel_pos=(40, 0))\n",
    "#enclosure.add_part_to_face(Face.BACK, \"USB C\", pf.build_usb_c(), rel_pos=(0, 0))\n",
    "#enclosure.add_part_to_face(Face.BACK, \"USB C V\", pf.build_usb_c(orientation_vertical=True), rel_pos=(40, 0))\n",
    "#enclosure.add_part_to_face(Face.LEFT, \"Vent L\", pf.build_air_vent(), rel_pos=(0, 0))\n",
    "#enclosure.add_part_to_face(Face.RIGHT, \"Vent R\", pf.build_air_vent(), rel_pos=(0, 0))\n",
    "\n",
    "skirt = pf.build_support(part_type=\"skirt\", width=(enclosure_size.outer_width - enclosure_size.wall_thickness*2), length=(enclosure_size.outer_length - enclosure_size.wall_thickness*2))\n",
    "enclosure.add_part_to_face(Face.TOP, \"Skirt\", skirt, rel_pos=(0, 0))\n",
    "\n",
    "enclosure.assemble(walls_explosion_factor=1.0, lid_panel_shift=0)\n",
    "\n",
    "show(enclosure.assembly, hide_contains=[\"Masks\", \"Debug\", \"BOTTOM\", \"FRONT\", \"BACK\", \"LEFT\", \"RIGHT\"])"
   ]
  },
  {
   "cell_type": "code",
   "execution_count": null,
   "id": "460ceedc-6506-4ef2-af8a-b6a45bf08636",
   "metadata": {},
   "outputs": [],
   "source": []
  },
  {
   "cell_type": "code",
   "execution_count": 14,
   "id": "a9a528af-ca04-462e-834f-0b94609a77ed",
   "metadata": {},
   "outputs": [
    {
     "name": "stdout",
     "output_type": "stream",
     "text": [
      "Exporting 'box' to 'stls/my_project-box-v1.0.0.stl'\n",
      "Exporting 'lid' to 'stls/my_project-lid-v1.0.0.stl'\n"
     ]
    }
   ],
   "source": [
    "enclosure.export_printables()"
   ]
  },
  {
   "cell_type": "markdown",
   "id": "08895a52-8a18-40bf-a65d-ee8704b387cb",
   "metadata": {},
   "source": [
    "## Panel layout building"
   ]
  },
  {
   "cell_type": "code",
   "execution_count": 13,
   "id": "f3894475-2e48-4545-8d08-c828e819576e",
   "metadata": {},
   "outputs": [],
   "source": [
    "from cq_enclosure_builder.layout_builder import LayoutElement, LayoutGroup"
   ]
  },
  {
   "cell_type": "code",
   "execution_count": 11,
   "id": "7c96a0e7-3926-4a8d-a359-a544c12c6423",
   "metadata": {},
   "outputs": [
    {
     "name": "stdout",
     "output_type": "stream",
     "text": [
      "Building CS cat m3 - ref M3-0.5\n",
      "100% ⋮————————————————————————————————————————————————————————————⋮ (4/4)  0.18s\n"
     ]
    }
   ],
   "source": [
    "from cq_enclosure_builder.parts.common.screw_block import ScrewBlock\n",
    "\n",
    "screw = ScrewBlock().m3(4, is_counter_sunk=True, with_counter_sunk_block=True)\n",
    "a = (\n",
    "    cq.Assembly(None, name=\"Screw block\")\n",
    "        .add(screw[\"block\"], name=\"Block\", color=cq.Color(1, 0, 0))\n",
    "        .add(screw[\"mask\"], name=\"Block Mask\", color=cq.Color(0, 1, 0))\n",
    "        .add(screw[\"counter_sunk_block\"], name=\"CS Block\", color=cq.Color(0, 1, 1))\n",
    "        .add(screw[\"counter_sunk_mask\"], name=\"CS Block Mask\", color=cq.Color(0, 1, 0))\n",
    ")\n",
    "show(a)"
   ]
  },
  {
   "cell_type": "code",
   "execution_count": 14,
   "id": "df9bd45c-7017-49fc-b350-7401a68cf317",
   "metadata": {
    "tags": []
   },
   "outputs": [
    {
     "name": "stdout",
     "output_type": "stream",
     "text": [
      "TOP: adding part 'USB VF!G'\n",
      "TOP: adding part 'SPST VF!G'\n",
      "TOP: adding part 'Jack VF!G'\n",
      "TOP: adding part 'USB VFA!G'\n",
      "TOP: adding part 'SPST VFA!G'\n",
      "TOP: adding part 'Jack VFA!G'\n",
      "TOP: adding part 'USB VF!E'\n",
      "TOP: adding part 'SPST VF!E'\n",
      "TOP: adding part 'Jack VF!E'\n",
      "TOP: adding part 'USB VFA!E'\n",
      "TOP: adding part 'SPST VFA!E'\n",
      "TOP: adding part 'Jack VFA!E'\n",
      "TOP: adding part 'USB VF'\n",
      "TOP: adding part 'SPST VF'\n",
      "TOP: adding part 'Jack VF'\n",
      "TOP: adding part 'USB VFA'\n",
      "TOP: adding part 'SPST VFA'\n",
      "TOP: adding part 'Jack VFA'\n",
      "TOP: adding part 'USB VFM'\n",
      "TOP: adding part 'SPST VFM'\n",
      "TOP: adding part 'Jack VFM'\n",
      "TOP: adding part 'USB VFMA'\n",
      "TOP: adding part 'SPST VFMA'\n",
      "TOP: adding part 'Jack VFMA'\n",
      "100% ⋮————————————————————————————————————————————————————————————⋮ (158/158) 19.29s\n"
     ]
    }
   ],
   "source": [
    "# Fixed-width vertical line 'tests'\n",
    "\n",
    "enclosure_size = (300, 150, 38, 2)\n",
    "\n",
    "vertical_fixed_xg = LayoutGroup.fixed_width_line_of_parts(\n",
    "    enclosure_size[1], [(\"USB VF!G\", usb_a), (\"SPST VF!G\", spst), (\"Jack VF!G\", jack_635)], horizontal=False,\n",
    "    add_margin_on_sides=False, group_center_at_0_0=False, elements_centers_at_0_0=True, align_to_outside_footprint=False)\n",
    "vertical_fixed_xg_aligned = LayoutGroup.fixed_width_line_of_parts(\n",
    "    enclosure_size[1], [(\"USB VFA!G\", usb_a), (\"SPST VFA!G\", spst), (\"Jack VFA!G\", jack_635)], horizontal=False,\n",
    "    add_margin_on_sides=False, group_center_at_0_0=False, elements_centers_at_0_0=True, align_to_outside_footprint=True)\n",
    "\n",
    "vertical_fixed_xe = LayoutGroup.fixed_width_line_of_parts(\n",
    "    enclosure_size[1], [(\"USB VF!E\", usb_a), (\"SPST VF!E\", spst), (\"Jack VF!E\", jack_635)], horizontal=False,\n",
    "    add_margin_on_sides=False, group_center_at_0_0=True, elements_centers_at_0_0=False, align_to_outside_footprint=False)\n",
    "vertical_fixed_xe_aligned = LayoutGroup.fixed_width_line_of_parts(\n",
    "    enclosure_size[1], [(\"USB VFA!E\", usb_a), (\"SPST VFA!E\", spst), (\"Jack VFA!E\", jack_635)], horizontal=False,\n",
    "    add_margin_on_sides=False, group_center_at_0_0=True, elements_centers_at_0_0=False, align_to_outside_footprint=True)\n",
    "\n",
    "vertical_fixed = LayoutGroup.fixed_width_line_of_parts(\n",
    "    enclosure_size[1], [(\"USB VF\", usb_a), (\"SPST VF\", spst), (\"Jack VF\", jack_635)], horizontal=False,\n",
    "    add_margin_on_sides=False, group_center_at_0_0=True, elements_centers_at_0_0=True, align_to_outside_footprint=False)\n",
    "vertical_fixed_aligned = LayoutGroup.fixed_width_line_of_parts(\n",
    "    enclosure_size[1], [(\"USB VFA\", usb_a), (\"SPST VFA\", spst), (\"Jack VFA\", jack_635)], horizontal=False,\n",
    "    add_margin_on_sides=False, group_center_at_0_0=True, elements_centers_at_0_0=True, align_to_outside_footprint=True)\n",
    "\n",
    "vertical_fixed_margin = LayoutGroup.fixed_width_line_of_parts(\n",
    "    enclosure_size[1], [(\"USB VFM\", usb_a), (\"SPST VFM\", spst), (\"Jack VFM\", jack_635)], horizontal=False,\n",
    "    add_margin_on_sides=True, group_center_at_0_0=True, elements_centers_at_0_0=True, align_to_outside_footprint=False)\n",
    "vertical_fixed_margin_aligned = LayoutGroup.fixed_width_line_of_parts(\n",
    "    enclosure_size[1], [(\"USB VFMA\", usb_a), (\"SPST VFMA\", spst), (\"Jack VFMA\", jack_635)], horizontal=False,\n",
    "    add_margin_on_sides=True, group_center_at_0_0=True, elements_centers_at_0_0=True, align_to_outside_footprint=True)\n",
    "\n",
    "enclosure = Enclosure(*enclosure_size)\n",
    "\n",
    "for idx, elem in enumerate(vertical_fixed_xg.translate((0, 0)).get_elements()):\n",
    "    enclosure.add_part_to_face(Face.TOP, elem.label, elem.part, abs_pos=elem.get_pos())\n",
    "for idx, elem in enumerate(vertical_fixed_xg_aligned.translate((30, 0)).get_elements()):\n",
    "    enclosure.add_part_to_face(Face.TOP, elem.label, elem.part, abs_pos=elem.get_pos())\n",
    "\n",
    "for idx, elem in enumerate(vertical_fixed_xe.translate((-60, 0)).get_elements()):\n",
    "    enclosure.add_part_to_face(Face.TOP, elem.label, elem.part, rel_pos=elem.get_pos())\n",
    "for idx, elem in enumerate(vertical_fixed_xe_aligned.translate((-30, 0)).get_elements()):\n",
    "    enclosure.add_part_to_face(Face.TOP, elem.label, elem.part, rel_pos=elem.get_pos())\n",
    "\n",
    "for idx, elem in enumerate(vertical_fixed.translate((20, 0)).get_elements()):\n",
    "    enclosure.add_part_to_face(Face.TOP, elem.label, elem.part, abs_pos=elem.get_abs_pos(enclosure.panels[Face.TOP]))\n",
    "for idx, elem in enumerate(vertical_fixed_aligned.translate((50, 0)).get_elements()):\n",
    "    enclosure.add_part_to_face(Face.TOP, elem.label, elem.part, abs_pos=elem.get_abs_pos(enclosure.panels[Face.TOP]))\n",
    "    \n",
    "for idx, elem in enumerate(vertical_fixed_margin.translate((100, 0)).get_elements()):\n",
    "    enclosure.add_part_to_face(Face.TOP, elem.label, elem.part, abs_pos=elem.get_abs_pos(enclosure.panels[Face.TOP]))\n",
    "for idx, elem in enumerate(vertical_fixed_margin_aligned.translate((130, 0)).get_elements()):\n",
    "    enclosure.add_part_to_face(Face.TOP, elem.label, elem.part, abs_pos=elem.get_abs_pos(enclosure.panels[Face.TOP]))\n",
    "\n",
    "enclosure.assemble()\n",
    "\n",
    "show(enclosure.assembly, hide_contains=[\"Masks\", \"FRONT\", \"RIGHT\", \"BOTTOM\"])"
   ]
  },
  {
   "cell_type": "code",
   "execution_count": 16,
   "id": "9501a1ce-7a69-4b9d-a98c-e41e13bfaaf9",
   "metadata": {
    "tags": []
   },
   "outputs": [
    {
     "name": "stdout",
     "output_type": "stream",
     "text": [
      "TOP: adding part 'USB'\n",
      "TOP: adding part 'SPST'\n",
      "TOP: adding part 'Jack'\n",
      "TOP: adding part 'USB Hz'\n",
      "TOP: adding part 'Jack Hz'\n",
      "TOP: adding part 'USB Fix Hz'\n",
      "TOP: adding part 'Jack Fix Hz'\n",
      "100% ⋮————————————————————————————————————————————————————————————⋮ (52/52)  7.01s\n"
     ]
    }
   ],
   "source": [
    "g00 = True\n",
    "e00 = True\n",
    "astof = False\n",
    "\n",
    "add_margin = False\n",
    "align_all = False\n",
    "\n",
    "top_line = LayoutGroup.line_of_parts([(\"USB\", usb_a), (\"SPST\", spst), (\"Jack\", jack_635)],\n",
    "                                   margin=0, horizontal=False,\n",
    "                                   group_center_at_0_0=False, elements_centers_at_0_0=e00,\n",
    "                                   align_start_to_outside_footprint=astof)\n",
    "\n",
    "side_line = LayoutGroup.line_of_parts([(\"USB Hz\", usb_a), (\"Jack Hz\", jack_635)],\n",
    "                                   margin=0, horizontal=True,\n",
    "                                   group_center_at_0_0=g00, elements_centers_at_0_0=e00,\n",
    "                                   align_start_to_outside_footprint=astof)\n",
    "\n",
    "side_line_fixed = LayoutGroup.fixed_width_line_of_parts(ENCLOSURE_INNER_WIDTH, [(\"USB Fix Hz\", usb_a), (\"Jack Fix Hz\", jack_635)],\n",
    "                                                   horizontal=True,\n",
    "                                                   add_margin_on_sides=add_margin,\n",
    "                                                   group_center_at_0_0=True,\n",
    "                                                   elements_centers_at_0_0=e00,\n",
    "                                                   align_to_outside_footprint=align_all)\n",
    "\n",
    "enclosure = Enclosure(ENCLOSURE_INNER_WIDTH, ENCLOSURE_INNER_LENGTH, ENCLOSURE_OUTER_THICKNESS, ENCLOSURE_WALLS_THICKNESS)\n",
    "top_line.translate((20, 0))\n",
    "for idx, elem in enumerate(top_line.get_elements()):\n",
    "    enclosure.add_part_to_face(Face.TOP, elem.label, elem.part, abs_pos=elem.get_pos())\n",
    "for idx, elem in enumerate(side_line.get_elements()):\n",
    "    enclosure.add_part_to_face(Face.TOP, elem.label, elem.part, abs_pos=elem.get_pos())\n",
    "\n",
    "for idx, elem in enumerate(side_line_fixed.get_elements()):\n",
    "    enclosure.add_part_to_face(Face.TOP, elem.label, elem.part, abs_pos=elem.get_abs_pos(enclosure.panels[Face.TOP]))\n",
    "enclosure.assemble()\n",
    "\n",
    "show(enclosure.assembly, hide_contains=[\"Masks\"])"
   ]
  },
  {
   "cell_type": "code",
   "execution_count": 46,
   "id": "abecedf9-0a21-46ea-ac17-cece04d59c59",
   "metadata": {
    "tags": []
   },
   "outputs": [
    {
     "name": "stdout",
     "output_type": "stream",
     "text": [
      "TOP: adding part 'Jack1'\n",
      "TOP: adding part 'Jack2'\n",
      "TOP: adding part 'Jack£'\n",
      "100% ⋮————————————————————————————————————————————————————————————⋮ (32/32)  0.28s\n"
     ]
    }
   ],
   "source": [
    "top_line = LayoutGroup.line_of_parts([(\"Jack1\", jack_635), (\"Jack2\", jack_635), (\"Jack£\", jack_635)],\n",
    "                                   margin=10, horizontal=False,\n",
    "                                   group_center_at_0_0=True, elements_centers_at_0_0=True,\n",
    "                                   align_start_to_outside_footprint=False)\n",
    "\n",
    "enclosure = Enclosure(ENCLOSURE_INNER_WIDTH, ENCLOSURE_INNER_LENGTH, ENCLOSURE_OUTER_THICKNESS, ENCLOSURE_WALLS_THICKNESS)\n",
    "for idx, elem in enumerate(top_line.get_elements()):\n",
    "    enclosure.add_part_to_face(Face.TOP, elem.label, elem.part, rel_pos=elem.get_pos())\n",
    "enclosure.assemble()\n",
    "\n",
    "show(enclosure.assembly, hide_contains=[\"Masks\"])"
   ]
  },
  {
   "cell_type": "code",
   "execution_count": 58,
   "id": "0e4bd9e8-7fc7-44ee-b2ca-a0c671068351",
   "metadata": {},
   "outputs": [
    {
     "name": "stdout",
     "output_type": "stream",
     "text": [
      "---\n",
      "---\n",
      "TOP: adding part 'SPST'\n",
      "TOP: adding part 'Screen'\n",
      "TOP: adding part 'Encoder'\n",
      "100% ⋮————————————————————————————————————————————————————————————⋮ (38/38)  1.33s\n"
     ]
    }
   ],
   "source": [
    "enclosure = Enclosure(ENCLOSURE_INNER_WIDTH, ENCLOSURE_INNER_LENGTH, ENCLOSURE_OUTER_THICKNESS, ENCLOSURE_WALLS_THICKNESS)\n",
    "\n",
    "left_controls = LayoutElement(\"SPST\", spst)\n",
    "# left_controls = LayoutGroup.line_of_parts([(\"SPST bottom-left\", spst), (\"SPST top-left\", spst)], group_center_at_0_0=True, margin=30, horizontal=False, align_start_to_outside_footprint=True)\n",
    "screen_element = LayoutElement(\"Screen\", screen)\n",
    "right_control = LayoutElement(\"Encoder\", encoder)\n",
    "#right_controls = LayoutGroup.line_of_parts([(\"SPST bottom-right\", spst), (\"SPST top-right\", spst)], margin=30, horizontal=False)\n",
    "print(\"---\")\n",
    "top_panel = LayoutGroup.fixed_width_line_of_elements(\n",
    "    ENCLOSURE_INNER_WIDTH,\n",
    "    [left_controls, screen_element, right_control],\n",
    "    # [screen_element],\n",
    "    #[left_controls, screen_element, right_controls],\n",
    "    horizontal=True,\n",
    "    add_margin_on_sides=True,\n",
    "    group_center_at_0_0=True,\n",
    "    align_to_outside_footprint=True\n",
    ")\n",
    "print(\"---\")\n",
    "\n",
    "for idx, elem in enumerate(top_panel.get_elements()):\n",
    "# for idx, elem in enumerate(left_controls.get_elements()):\n",
    "    enclosure.add_part_to_face(Face.TOP, elem.label, elem.part, abs_pos=elem.get_abs_pos(enclosure.panels[Face.TOP]))\n",
    "#enclosure.add_part_to_face(Face.TOP, screen_element.label, screen_element.part, rel_pos=screen_element.get_pos())\n",
    "enclosure.assemble()\n",
    "\n",
    "show(enclosure.assembly, hide_contains=[\"Masks\"])"
   ]
  },
  {
   "cell_type": "code",
   "execution_count": null,
   "id": "a0f68c0b-e639-406d-b010-dd40db45ccd1",
   "metadata": {
    "tags": []
   },
   "outputs": [],
   "source": []
  },
  {
   "cell_type": "code",
   "execution_count": 56,
   "id": "5d6faaa6-7078-44f2-b54b-e1a25fa95959",
   "metadata": {
    "tags": []
   },
   "outputs": [
    {
     "name": "stdout",
     "output_type": "stream",
     "text": [
      "gg's TOTAL footprint: 185.475,65.69999999999999\n",
      "gg's outside footprint: 185.475,63.1\n",
      "gg's total footprint offset:0,0\n",
      "TOP: adding part 'Upper SPST'\n",
      "TOP: adding part '34a04749-0991-4fa3-924e-6fd88412df74'\n",
      "TOP: adding part '22a42a92-9ae8-45a3-b420-f8070c78e151'\n",
      "TOP: adding part '9d070e1b-28d2-446f-8f17-999714581cd8'\n",
      "TOP: adding part '4ba9b359-6f46-4aa3-a374-f1ab39a5dc41'\n",
      "TOP: adding part '83e62d6f-8455-4f0d-ad48-13dc4331d113'\n",
      "TOP: adding part 'dc450d4b-2da8-40c6-aedf-b7f7a86ec18c'\n",
      "TOP: adding part 'a88064bd-161b-4dab-8902-70df1dbee816'\n",
      "TOP: adding part 'e0504682-0034-485f-b47d-bc31fce83da6'\n",
      "TOP: adding part 'dfac720e-7c10-4654-8916-c3f9c008ffb9'\n",
      "TOP: adding part 'ba59dbc8-db14-4808-be68-7ac280369a78'\n",
      "TOP: adding part '95b156ae-9512-4ec0-9630-3912bf7e684a'\n",
      "TOP: adding part '923d18de-f2b6-4bee-bd7e-2714a3b682ea'\n",
      "TOP: adding part '5b475095-85e0-42a8-9571-a715723e08fc'\n",
      "TOP: adding part '9655e916-8e53-447d-bfa4-305676c7faa4'\n",
      "TOP: adding part 'Bottom Encoder'\n",
      "100% ⋮————————————————————————————————————————————————————————————⋮ (109/109)  9.46s\n"
     ]
    }
   ],
   "source": [
    "top_parts = [(\"Upper SPST\", spst), usb, jack_635, usb_c, usb_c, encoder]\n",
    "top_group = LayoutGroup.line_of_parts(top_parts, margin=2, horizontal=True, group_center_at_0_0=True)\n",
    "\n",
    "bottom_parts = [jack_635, jack_635, jack_635, jack_35, jack_635, jack_635, jack_635, usb_c, usb_c, (\"Bottom Encoder\", encoder)]\n",
    "bottom_group = LayoutGroup.line_of_parts(bottom_parts, margin=2, horizontal=True, group_center_at_0_0=True)\n",
    "\n",
    "groups = [top_group, bottom_group]\n",
    "groups_group = LayoutGroup.line_of_elements(groups, margin=2, horizontal=False)\n",
    "\n",
    "print(\"gg's TOTAL footprint: \" + str(groups_group.total_footprint[0]) + \",\" + str(groups_group.total_footprint[1]))\n",
    "print(\"gg's outside footprint: \" + str(groups_group.outside_footprint[0]) + \",\" + str(groups_group.outside_footprint[1]))\n",
    "print(\"gg's total footprint offset:\" + str(groups_group.total_footprint_offset[0]) + \",\" + str(groups_group.total_footprint_offset[1]))\n",
    "\n",
    "\n",
    "enclosure = Enclosure(ENCLOSURE_INNER_WIDTH, ENCLOSURE_INNER_LENGTH, ENCLOSURE_OUTER_THICKNESS, ENCLOSURE_WALLS_THICKNESS)\n",
    "for idx, elem in enumerate(groups_group.get_elements()):\n",
    "    enclosure.add_part_to_face(Face.TOP, elem.label, elem.part, rel_pos=elem.get_pos())\n",
    "enclosure.assemble()\n",
    "\n",
    "show(enclosure.assembly, hide_contains=[\"Masks\"])"
   ]
  },
  {
   "cell_type": "code",
   "execution_count": null,
   "id": "88b5b8f3-df79-4a5a-a741-fa9947c4c27b",
   "metadata": {
    "tags": []
   },
   "outputs": [],
   "source": []
  },
  {
   "cell_type": "code",
   "execution_count": null,
   "id": "0ae994bd-8046-460b-bb8f-5213c4b778a4",
   "metadata": {
    "tags": []
   },
   "outputs": [],
   "source": []
  },
  {
   "cell_type": "code",
   "execution_count": 53,
   "id": "75a6bdc7-8873-4352-b3b9-bfc60324a7fd",
   "metadata": {
    "tags": []
   },
   "outputs": [
    {
     "name": "stdout",
     "output_type": "stream",
     "text": [
      "TOP: adding part 'Jack 6.35 1-1'\n",
      "TOP: adding part 'Jack 6.35 1-2'\n",
      "TOP: adding part 'Jack 6.35 1-3'\n",
      "TOP: adding part 'Jack 6.35 1-4'\n",
      "TOP: adding part 'Jack 6.35 1-5'\n",
      "TOP: adding part 'Jack 6.35 2-1'\n",
      "TOP: adding part 'Jack 6.35 2-2'\n",
      "TOP: adding part 'Jack 6.35 2-3'\n",
      "TOP: adding part 'Jack 6.35 2-4'\n",
      "TOP: adding part 'Jack 6.35 2-5'\n",
      "TOP: adding part 'Jack 3.5 1-1'\n",
      "TOP: adding part 'Jack 3.5 1-2'\n",
      "TOP: adding part 'Jack 3.5 1-3'\n",
      "TOP: adding part 'Jack 3.5 2-1'\n",
      "TOP: adding part 'Jack 3.5 2-2'\n",
      "TOP: adding part 'Jack 3.5 2-3'\n",
      "TOP: adding part 'Jack 3.5 3-1'\n",
      "TOP: adding part 'Jack 3.5 3-2'\n",
      "TOP: adding part 'Jack 3.5 3-3'\n",
      "TOP: adding part 'Jack 3.5 4-1'\n",
      "TOP: adding part 'Jack 3.5 4-2'\n",
      "TOP: adding part 'Jack 3.5 4-3'\n",
      "TOP: adding part 'USB'\n",
      "TOP: adding part 'USB VFA!G'\n",
      "TOP: adding part 'SPST VFA!G'\n",
      "TOP: adding part 'Jack VFA!G'\n",
      "100% ⋮————————————————————————————————————————————————————————————⋮ (168/168)  5.71s\n"
     ]
    }
   ],
   "source": [
    "\n",
    "enclosure_size = (300, 150, 38, 2)\n",
    "enclosure = Enclosure(*enclosure_size)\n",
    "\n",
    "jacks_grid_1 = LayoutGroup.grid_of_part(\"Jack 6.35\", jack_635, rows=2, cols=5, margin_rows=5, margin_cols=2)\n",
    "jacks_grid_2 = LayoutGroup.grid_of_part(\"Jack 3.5\", jack_35, rows=4, cols=3, margin_rows=1, margin_cols=1)\n",
    "one_usb = LayoutElement(\"USB\", usb_a)\n",
    "\n",
    "all_jacks = LayoutGroup.line_of_elements(\n",
    "    [jacks_grid_1, jacks_grid_2, one_usb],\n",
    "    margin=10,\n",
    "    elements_centers_at_0_0=True)\n",
    "\n",
    "some_fixed_width_line = LayoutGroup.fixed_width_line_of_parts(\n",
    "    enclosure_size[0],\n",
    "    [(\"USB VFA!G\", usb_a), (\"SPST VFA!G\", spst), (\"Jack VFA!G\", jack_635)],\n",
    "    horizontal=True,\n",
    "    add_margin_on_sides=False, group_center_at_0_0=False, elements_centers_at_0_0=True, align_to_outside_footprint=True)\n",
    "\n",
    "for idx, elem in enumerate(all_jacks.get_elements()):\n",
    "    enclosure.add_part_to_face(Face.TOP, elem.label, elem.part, rel_pos=elem.get_pos())\n",
    "for idx, elem in enumerate(some_fixed_width_line.get_elements()):\n",
    "    enclosure.add_part_to_face(Face.TOP, elem.label, elem.part, abs_pos=elem.get_pos())\n",
    "enclosure.assemble()\n",
    "\n",
    "show(enclosure.assembly, hide_contains=[\"Masks\"])"
   ]
  },
  {
   "cell_type": "code",
   "execution_count": null,
   "id": "687ad7a3-e6e3-412f-a682-3ffec39633ab",
   "metadata": {
    "tags": []
   },
   "outputs": [],
   "source": []
  },
  {
   "cell_type": "code",
   "execution_count": null,
   "id": "978ca60d-09f2-4771-987e-5c4ee37e87b9",
   "metadata": {},
   "outputs": [],
   "source": []
  },
  {
   "cell_type": "markdown",
   "id": "1dc31904-44c1-4dd3-aa4d-1b456f121baf",
   "metadata": {},
   "source": [
    "## Test prints"
   ]
  },
  {
   "cell_type": "markdown",
   "id": "d30e7746-58eb-4275-95e1-66f5ac4e445e",
   "metadata": {},
   "source": [
    "### All screwable parts"
   ]
  },
  {
   "cell_type": "code",
   "execution_count": 15,
   "id": "9bd82ce3-d419-4319-9a09-bc4a09316517",
   "metadata": {},
   "outputs": [
    {
     "ename": "NameError",
     "evalue": "name 'LayoutGroup' is not defined",
     "output_type": "error",
     "traceback": [
      "\u001b[0;31m---------------------------------------------------------------------------\u001b[0m",
      "\u001b[0;31mNameError\u001b[0m                                 Traceback (most recent call last)",
      "Cell \u001b[0;32mIn[15], line 17\u001b[0m\n\u001b[1;32m      4\u001b[0m length \u001b[38;5;241m=\u001b[39m \u001b[38;5;241m25\u001b[39m\n\u001b[1;32m      6\u001b[0m parts \u001b[38;5;241m=\u001b[39m [\n\u001b[1;32m      7\u001b[0m     (\u001b[38;5;124m\"\u001b[39m\u001b[38;5;124mPot\u001b[39m\u001b[38;5;124m\"\u001b[39m, pot),\n\u001b[1;32m      8\u001b[0m     (\u001b[38;5;124m\"\u001b[39m\u001b[38;5;124mBanana\u001b[39m\u001b[38;5;124m\"\u001b[39m, banana),\n\u001b[0;32m   (...)\u001b[0m\n\u001b[1;32m     14\u001b[0m     (\u001b[38;5;124m\"\u001b[39m\u001b[38;5;124mJack 6.35\u001b[39m\u001b[38;5;124m\"\u001b[39m, jack_635),\n\u001b[1;32m     15\u001b[0m ]\n\u001b[0;32m---> 17\u001b[0m line \u001b[38;5;241m=\u001b[39m \u001b[43mLayoutGroup\u001b[49m\u001b[38;5;241m.\u001b[39mfixed_width_line_of_parts(\n\u001b[1;32m     18\u001b[0m     width, parts,\n\u001b[1;32m     19\u001b[0m     horizontal\u001b[38;5;241m=\u001b[39m\u001b[38;5;28;01mTrue\u001b[39;00m,\n\u001b[1;32m     20\u001b[0m     add_margin_on_sides\u001b[38;5;241m=\u001b[39m\u001b[38;5;28;01mTrue\u001b[39;00m,\n\u001b[1;32m     21\u001b[0m     group_center_at_0_0\u001b[38;5;241m=\u001b[39m\u001b[38;5;28;01mTrue\u001b[39;00m,\n\u001b[1;32m     22\u001b[0m     elements_centers_at_0_0\u001b[38;5;241m=\u001b[39m\u001b[38;5;28;01mTrue\u001b[39;00m,\n\u001b[1;32m     23\u001b[0m     align_to_outside_footprint\u001b[38;5;241m=\u001b[39m\u001b[38;5;28;01mTrue\u001b[39;00m)\n\u001b[1;32m     26\u001b[0m test_panel \u001b[38;5;241m=\u001b[39m Panel(Face.Xu001b[38;5;241m.\u001b[39mTOP, PanelSize(width, length, enclosure_wall_thickness))\n\u001b[1;32m     28\u001b[0m \u001b[38;5;28;01mfor\u001b[39;00m idx, elem \u001b[38;5;129;01min\u001b[39;00m \u001b[38;5;28menumerate\u001b[39m(line\u001b[38;5;241m.\u001b[39mtranslate((\u001b[38;5;241m0\u001b[39m, \u001b[38;5;241m0\u001b[39m))\u001b[38;5;241m.\u001b[39mget_elements()):\n",
      "\u001b[0;31mNameError\u001b[0m: name 'LayoutGroup' is not defined"
     ]
    }
   ],
   "source": [
    "enclosure_wall_thickness = pf.default_parameters[\"enclosure_wall_thickness\"]\n",
    "\n",
    "width = 160\n",
    "length = 25\n",
    "\n",
    "parts = [\n",
    "    (\"Pot\", pot),\n",
    "    (\"Banana\", banana),\n",
    "    (\"Barrel\", barrel_plug),\n",
    "    (\"RCA\", rca),\n",
    "    (\"SPST\", spst),\n",
    "    (\"Encoder\", encoder),\n",
    "    (\"Jack 3.5\", jack_35),\n",
    "    (\"Jack 6.35\", jack_635),\n",
    "]\n",
    "\n",
    "line = LayoutGroup.fixed_width_line_of_parts(\n",
    "    width, parts,\n",
    "    horizontal=True,\n",
    "    add_margin_on_sides=True,\n",
    "    group_center_at_0_0=True,\n",
    "    elements_centers_at_0_0=True,\n",
    "    align_to_outside_footprint=True)\n",
    "\n",
    "\n",
    "test_panel = Panel(Face.TOP, PanelSize(width, length, enclosure_wall_thickness))\n",
    "\n",
    "for idx, elem in enumerate(line.translate((0, 0)).get_elements()):\n",
    "    test_panel.add(elem.label, elem.part, rel_pos=elem.get_pos())\n",
    "    # enclosure.add_part_to_face(Face.TOP, elem.label, elem.part, abs_pos=elem.get_pos())\n",
    "\n",
    "test_panel.assemble()\n",
    "\n",
    "\n",
    "# show(test_panel.debug_assemblies[\"combined\"])\n",
    "show(test_panel.panel)\n",
    "\n",
    "from cadquery import exporters\n",
    "#exporters.export(test_panel.panel.toCompound(), 'models/all-threads-v3.stl')"
   ]
  },
  {
   "cell_type": "code",
   "execution_count": null,
   "id": "c6bec7bd-3dbd-42db-9d6c-396abd49a3bc",
   "metadata": {},
   "outputs": [],
   "source": [
    "    "
   ]
  },
  {
   "cell_type": "code",
   "execution_count": null,
   "id": "43bbb012-5609-440b-9b81-cb7c50a58f31",
   "metadata": {},
   "outputs": [],
   "source": []
  },
  {
   "cell_type": "code",
   "execution_count": null,
   "id": "dc8c9955-fc57-4a35-89cd-dd5582f9353f",
   "metadata": {},
   "outputs": [],
   "source": []
  },
  {
   "cell_type": "code",
   "execution_count": null,
   "id": "797cd253-c50c-4c1b-81b3-20dffa7a4b4a",
   "metadata": {},
   "outputs": [],
   "source": []
  },
  {
   "cell_type": "code",
   "execution_count": null,
   "id": "7a012dd8-d759-4ded-b96e-a426c8c15744",
   "metadata": {},
   "outputs": [],
   "source": []
  },
  {
   "cell_type": "code",
   "execution_count": null,
   "id": "affd73cf-119a-4704-88ab-a374bb0fbe58",
   "metadata": {},
   "outputs": [],
   "source": []
  }
 ],
 "metadata": {
  "kernelspec": {
   "display_name": "Python 3 (ipykernel)",
   "language": "python",
   "name": "python3"
  },
  "language_info": {
   "codemirror_mode": {
    "name": "ipython",
    "version": 3
   },
   "file_extension": ".py",
   "mimetype": "text/x-python",
   "name": "python",
   "nbconvert_exporter": "python",
   "pygments_lexer": "ipython3",
   "version": "3.10.10"
  }
 },
 "nbformat": 4,
 "nbformat_minor": 5
}
