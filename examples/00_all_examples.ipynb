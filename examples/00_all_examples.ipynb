{
 "cells": [
  {
   "cell_type": "code",
   "execution_count": 1,
   "id": "3776b0a4-4be5-4f4c-a7ae-b7a88df6b861",
   "metadata": {},
   "outputs": [
    {
     "name": "stdout",
     "output_type": "stream",
     "text": [
      "Overwriting auto display for cadquery Workplane and Shape\n",
      "\n",
      "Enabling jupyter_cadquery replay\n",
      "Note: To get rid of this warning, use 'enable_replay(False)'\n"
     ]
    }
   ],
   "source": [
    "from jupyter_helpers import show, show_b, show_x, show_part, hide_objects_matching_strings"
   ]
  },
  {
   "cell_type": "code",
   "execution_count": 22,
   "id": "40228ba2-cdfa-4127-8ff6-d05ba92d9dba",
   "metadata": {},
   "outputs": [],
   "source": [
    "import sys\n",
    "sys.path.append(\"../src\")\n",
    "\n",
    "from cq_enclosure_builder import PartFactory as pf\n",
    "from cq_enclosure_builder import Enclosure, EnclosureSize, Face, ProjectInfo\n",
    "from cq_enclosure_builder import Panel, Face\n",
    "from cq_enclosure_builder.layout_builder import LayoutElement, LayoutGroup"
   ]
  },
  {
   "cell_type": "markdown",
   "id": "265f9ce6-be86-480d-945e-30aa34857234",
   "metadata": {},
   "source": [
    "# 01 – Panel with buttons"
   ]
  },
  {
   "cell_type": "code",
   "execution_count": 8,
   "id": "c95dc048-c8a4-443e-a007-0c3c3c49d811",
   "metadata": {},
   "outputs": [
    {
     "name": "stdout",
     "output_type": "stream",
     "text": [
      "VALIDATING CLASS: ButtonSpstPbs24b4Part\n",
      "[My project v1.0.0] TOP: adding part 'SPST'\n",
      "[My project v1.0.0] TOP: adding part 'SPST corner'\n",
      "100% ⋮————————————————————————————————————————————————————————————⋮ (20/20)  0.27s\n"
     ]
    }
   ],
   "source": [
    "WIDTH     = 100\n",
    "LENGTH    = 38\n",
    "THICKNESS = 2\n",
    "\n",
    "panel = Panel(Face.TOP, WIDTH, LENGTH, THICKNESS)\n",
    "\n",
    "button = pf.build_button(\n",
    "    part_type=\"SPST PBS-24B-4\",\n",
    "    enclosure_wall_thickness=THICKNESS\n",
    ")\n",
    "\n",
    "panel.add(\"SPST\", button, rel_pos=(10, 0))\n",
    "panel.add(\"SPST corner\", button, abs_pos=(WIDTH, LENGTH))\n",
    "\n",
    "panel.assemble()\n",
    "\n",
    "show(panel.panel_with_debug)"
   ]
  },
  {
   "cell_type": "markdown",
   "id": "b5b438de-9bd5-4648-8d37-5b0e3a791dc5",
   "metadata": {},
   "source": [
    "# 02 – Set default part types and parameters"
   ]
  },
  {
   "cell_type": "code",
   "execution_count": 9,
   "id": "88953542-c580-4fef-ab2a-56ed353dabe9",
   "metadata": {},
   "outputs": [
    {
     "name": "stdout",
     "output_type": "stream",
     "text": [
      "VALIDATING CLASS: ButtonSpstPbs24b4Part\n",
      "[My project v1.0.0] TOP: adding part 'SPST'\n",
      "[My project v1.0.0] TOP: adding part 'SPST corner'\n",
      "100% ⋮————————————————————————————————————————————————————————————⋮ (20/20)  0.24s\n"
     ]
    }
   ],
   "source": [
    "pf.set_default_types({\n",
    "    \"button\": 'SPST PBS-24B-4',\n",
    "})\n",
    "pf.set_default_parameters({\n",
    "    \"enclosure_wall_thickness\": 2\n",
    "})\n",
    "\n",
    "panel = Panel(Face.TOP, 100, 38, 2)\n",
    "\n",
    "button = pf.build_button()\n",
    "\n",
    "panel.add(\"SPST\", button, rel_pos=(-10, 0))\n",
    "panel.add(\"SPST corner\", button, abs_pos=(0, 0))\n",
    "\n",
    "panel.assemble()\n",
    "\n",
    "show(panel.panel_with_debug)"
   ]
  },
  {
   "cell_type": "markdown",
   "id": "a243a752-1a89-4c83-a6c4-6a9b454f793e",
   "metadata": {},
   "source": [
    "# 03 – Panel's optional parameters"
   ]
  },
  {
   "cell_type": "code",
   "execution_count": 13,
   "id": "f3d1624e-c3ea-4aad-accb-1d6e80928383",
   "metadata": {},
   "outputs": [
    {
     "name": "stdout",
     "output_type": "stream",
     "text": [
      "VALIDATING CLASS: ButtonSpstPbs24b4Part\n",
      "VALIDATING CLASS: ButtonSpstPbs24b4Part\n",
      "[My project v1.0.0] TOP: adding part 'SPST'\n",
      "100% ⋮————————————————————————————————————————————————————————————⋮ (12/12)  0.14s\n"
     ]
    }
   ],
   "source": [
    "pf.set_default_types({\"button\": 'SPST PBS-24B-4'})\n",
    "pf.set_default_parameters({\"enclosure_wall_thickness\": 2})\n",
    "\n",
    "panel = Panel(\n",
    "    Face.TOP, 100, 38, 1.2,\n",
    "    color=(1, 0, 0),  # colors are RGB with a scale from 0 to 1\n",
    "    part_color=(0, 1, 0),\n",
    "    alpha=0.2,  # affects the panel itself, not its parts\n",
    ")\n",
    "\n",
    "button = pf.build_button()\n",
    "\n",
    "panel.add(\"SPST\", pf.build_button(), rel_pos=(0, 5))\n",
    "\n",
    "panel.assemble()\n",
    "\n",
    "show(panel.panel_with_debug)"
   ]
  },
  {
   "cell_type": "markdown",
   "id": "39c1e572-f29c-48c2-9cc9-0950e427afa8",
   "metadata": {},
   "source": [
    "# 04 – Enclosure with buttons"
   ]
  },
  {
   "cell_type": "code",
   "execution_count": 15,
   "id": "48815fe0-8b5d-4c9d-bda3-7471012bce9d",
   "metadata": {},
   "outputs": [
    {
     "name": "stdout",
     "output_type": "stream",
     "text": [
      "[My project v1.0.0] TOP: adding part 'Skirt'\n",
      "VALIDATING CLASS: ButtonSpstPbs24b4Part\n",
      "[My project v1.0.0] TOP: adding part 'SPST'\n",
      "100% ⋮————————————————————————————————————————————————————————————⋮ (24/24)  0.31s\n"
     ]
    }
   ],
   "source": [
    "enclosure_size = EnclosureSize(180, 90, 38, 2)\n",
    "enclosure = Enclosure(enclosure_size)\n",
    "\n",
    "pf.set_default_types({\"button\": 'SPST PBS-24B-4'})\n",
    "pf.set_default_parameters({\"enclosure_wall_thickness\": 2})\n",
    "\n",
    "enclosure.add_part_to_face(Face.TOP, \"SPST\", pf.build_button(), rel_pos=(-10, 0))\n",
    "\n",
    "# The explosion factor and lid panel shift will helps you to see the insides of the enclosure\n",
    "enclosure.assemble(walls_explosion_factor=1.5, lid_panel_shift=20)\n",
    "\n",
    "show(enclosure.assembly)"
   ]
  },
  {
   "cell_type": "markdown",
   "id": "436b864e-52b9-4ead-bb8f-2f977d57b9f6",
   "metadata": {},
   "source": [
    "# 05 – Export enclosure STLs"
   ]
  },
  {
   "cell_type": "code",
   "execution_count": 18,
   "id": "ebb0e146-c1f8-41ad-a12b-e28d215477cc",
   "metadata": {},
   "outputs": [
    {
     "name": "stdout",
     "output_type": "stream",
     "text": [
      "[My project v1.0.0] TOP: adding part 'Skirt'\n",
      "VALIDATING CLASS: ButtonSpstPbs24b4Part\n",
      "[My project v1.0.0] TOP: adding part 'SPST'\n",
      "100% ⋮————————————————————————————————————————————————————————————⋮ (43/43)  0.72s\n",
      "Exporting 'box' to 'stls/my_project-box-v1.0.0.stl'\n",
      "Exporting 'lid' to 'stls/my_project-lid-v1.0.0.stl'\n"
     ]
    }
   ],
   "source": [
    "enclosure_size = EnclosureSize(180, 90, 38, 2)\n",
    "enclosure = Enclosure(enclosure_size)\n",
    "\n",
    "pf.set_default_types({\"button\": 'SPST PBS-24B-4'})\n",
    "pf.set_default_parameters({\"enclosure_wall_thickness\": 2})\n",
    "\n",
    "enclosure.add_part_to_face(Face.TOP, \"SPST\", pf.build_button(), abs_pos=(40, 10))\n",
    "\n",
    "enclosure.assemble()\n",
    "\n",
    "show(enclosure.assembly_with_debug)\n",
    "\n",
    "# `enclosure.debug` (and `enclosure.assembly_with_debug`) will show\n",
    "#   the 'printables', that can then be exported:\n",
    "\n",
    "# Exports ready-to-print STLs in the 'stls/' folder\n",
    "#   - my_project-box-v1.0.0.stl\n",
    "#   - my_project-lid-v1.0.0.stl\n",
    "# (names based on the default value of ProjectInfo; see next example)\n",
    "enclosure.export_printables()"
   ]
  },
  {
   "cell_type": "markdown",
   "id": "03ca93ed-b4e7-4887-b312-d6518af81564",
   "metadata": {},
   "source": [
    "# 06 – Enclosure's optional parameters"
   ]
  },
  {
   "cell_type": "code",
   "execution_count": 19,
   "id": "2264ed83-d48d-4046-bdf4-25d422fe65b4",
   "metadata": {},
   "outputs": [
    {
     "name": "stdout",
     "output_type": "stream",
     "text": [
      "[my-enclosure v0.9] TOP: adding part 'Skirt'\n",
      "VALIDATING CLASS: ButtonSpstPbs24b4Part\n",
      "[my-enclosure v0.9] TOP: adding part 'SPST'\n",
      "100% ⋮————————————————————————————————————————————————————————————⋮ (24/24)  0.29s\n",
      "Exporting 'box' to 'stls/my-enclosure-box-v0.9.stl'\n",
      "Exporting 'lid' to 'stls/my-enclosure-lid-v0.9.stl'\n"
     ]
    }
   ],
   "source": [
    "pf.set_default_types({\"button\": 'SPST PBS-24B-4'})\n",
    "pf.set_default_parameters({\"enclosure_wall_thickness\": 2})\n",
    "\n",
    "enclosure = Enclosure(\n",
    "    size=EnclosureSize(180, 90, 38, 2),\n",
    "    project_info=ProjectInfo(\"my-enclosure\", \"0.9\"),\n",
    "    lid_on_faces=[Face.BOTTOM],    # for now, can only be BOTTOM, feel free to contribute/open an issue if you have a more specific need\n",
    "    lid_panel_size_error_margin=1.2, # meaning the lid is `margin` smaller than the hole (space for the lid) on both width and length\n",
    "    lid_thickness_error_margin=2,  # if >0, the lid screws and support will be slightly sunk in the enclosure\n",
    "    add_corner_lid_screws=True,    # one screw per corner; more can be added with Enclosure#add_screw\n",
    "    add_lid_support=True,     # adds a rim all around the enclosure to prevent the lid from sinking in\n",
    "    add_top_support=True,     # small support rim on the enclosure to provide additional strength\n",
    "    lid_screws_heat_set=True, # use heat set inserts instead of printed threads\n",
    "    no_fillet_top=False,      # removed the fillet (rounded edges) on the top of the enclosure\n",
    "    no_fillet_bottom=False,   # removed the fillet (rounded edges) on the bottom of the enclosure\n",
    ")\n",
    "\n",
    "enclosure.add_part_to_face(Face.TOP, \"SPST\", pf.build_button(), abs_pos=(40, 10))\n",
    "enclosure.assemble()\n",
    "show(enclosure.assembly)\n",
    "\n",
    "# Exports files stls/my-enclosure-box-v0.9.stl and stls/my-enclosure-lid-v0.9.stl\n",
    "enclosure.export_printables()"
   ]
  },
  {
   "cell_type": "markdown",
   "id": "abdf128e-9487-445e-b827-df16b4211cd8",
   "metadata": {},
   "source": [
    "# 07 – Layout builder: simple line"
   ]
  },
  {
   "cell_type": "code",
   "execution_count": 23,
   "id": "b542c987-b031-4b05-935d-854eb70fcce4",
   "metadata": {},
   "outputs": [
    {
     "name": "stdout",
     "output_type": "stream",
     "text": [
      "VALIDATING CLASS: UsbA30VerticalCltgxddPart\n",
      "VALIDATING CLASS: ButtonSpstPbs24b4Part\n",
      "VALIDATING CLASS: EncoderEc11Part\n",
      "[My project v1.0.0] TOP: adding part 'USB'\n",
      "[My project v1.0.0] TOP: adding part 'Button'\n",
      "[My project v1.0.0] TOP: adding part 'Encoder'\n",
      "100% ⋮————————————————————————————————————————————————————————————⋮ (24/24)  2.75s\n"
     ]
    }
   ],
   "source": [
    "pf.set_default_types({\n",
    "    \"usb_a\": '3.0 vertical cltgxdd',\n",
    "    \"button\": 'SPST PBS-24B-4',\n",
    "    \"encoder\": 'EC11',\n",
    "})\n",
    "pf.set_default_parameters({\"enclosure_wall_thickness\": 2})\n",
    "\n",
    "panel = Panel(Face.TOP, 100, 38, 2)\n",
    "\n",
    "group = LayoutGroup.line_of_parts(\n",
    "    [\n",
    "        (\"USB\", pf.build_usb_a()),\n",
    "        (\"Button\", pf.build_button()),\n",
    "        (\"Encoder\", pf.build_encoder())\n",
    "    ],\n",
    "    margin=0,\n",
    "    horizontal=True,\n",
    "    group_center_at_0_0=False,\n",
    "    align_start_to_outside_footprint=False,  # redundant if align_to_outside_footprint is True\n",
    "    align_to_outside_footprint=False,\n",
    ")\n",
    "\n",
    "# Example of alignments, when group_center_at_0_0 is True:\n",
    "# - if align_to_outside_footprint,\n",
    "#   the left of the USB's outside footprint (i.e. the port's hole) will be at -X,\n",
    "#   and the right of the Encoder's outside footprint (i.e. the cap) will be at +X\n",
    "# - if not, it will use the inside footprint (i.e. the board)\n",
    "\n",
    "# Example of alignments, when group_center_at_0_0 is False:\n",
    "# - if align_[start_]to_outside_footprint, (0,0) will correspond to the the left of the USB's outside footprint\n",
    "# - if not, it will use the inside footprint\n",
    "\n",
    "# align_to_outside_footprint will make sure all the outside footprints touch each other (if margin=0)\n",
    "# while align_start_to_outside_footprint will only make the first outside footprint start at (0,0) and use the total footprint for the rest\n",
    "\n",
    "for idx, elem in enumerate(group.get_elements()):\n",
    "    panel.add(elem.label, elem.part, rel_pos=elem.get_pos())\n",
    "\n",
    "panel.assemble()\n",
    "\n",
    "show(panel.panel_with_debug)"
   ]
  },
  {
   "cell_type": "markdown",
   "id": "c566a5dd-bb8b-44da-bb83-8dc0db65bc31",
   "metadata": {},
   "source": [
    "# 08 – Layout builder: fixed-width line"
   ]
  },
  {
   "cell_type": "code",
   "execution_count": 24,
   "id": "29c88c8a-7846-445a-932e-0897f0301f8f",
   "metadata": {},
   "outputs": [
    {
     "name": "stdout",
     "output_type": "stream",
     "text": [
      "VALIDATING CLASS: UsbA30VerticalCltgxddPart\n",
      "VALIDATING CLASS: ButtonSpstPbs24b4Part\n",
      "VALIDATING CLASS: EncoderEc11Part\n",
      "[My project v1.0.0] TOP: adding part 'USB'\n",
      "[My project v1.0.0] TOP: adding part 'Button'\n",
      "[My project v1.0.0] TOP: adding part 'Encoder'\n",
      "100% ⋮————————————————————————————————————————————————————————————⋮ (24/24)  3.21s\n"
     ]
    }
   ],
   "source": [
    "pf.set_default_types({\n",
    "    \"usb_a\": '3.0 vertical cltgxdd',\n",
    "    \"button\": 'SPST PBS-24B-4',\n",
    "    \"encoder\": 'EC11',\n",
    "})\n",
    "pf.set_default_parameters({\"enclosure_wall_thickness\": 2})\n",
    "\n",
    "WIDTH = 100\n",
    "LENGTH = 38\n",
    "\n",
    "panel = Panel(Face.TOP, WIDTH, LENGTH, 2)\n",
    "\n",
    "# fixed_width_line_of_parts will spread the parts so the first is directly on\n",
    "#   the starting at 0, and the last ending at WIDTH\n",
    "\n",
    "# If using align_to_outside_footprint,\n",
    "#   0 and WIDTH will be aligned to the outside footprint of the parts\n",
    "# If using add_margin_on_sides, the line will start and end\n",
    "#   at the same distance from the borders as the distance between each part\n",
    "\n",
    "group = LayoutGroup.fixed_width_line_of_parts(\n",
    "    WIDTH,\n",
    "    [\n",
    "        (\"USB\", pf.build_usb_a()),\n",
    "        (\"Button\", pf.build_button()),\n",
    "        (\"Encoder\", pf.build_encoder())\n",
    "    ],\n",
    "    horizontal=True,\n",
    "    add_margin_on_sides=False,\n",
    "    group_center_at_0_0=False,\n",
    "    elements_centers_at_0_0=True,\n",
    "    align_to_outside_footprint=True,\n",
    ")\n",
    "\n",
    "group.translate([0, LENGTH/2, 0])\n",
    "\n",
    "for idx, elem in enumerate(group.get_elements()):\n",
    "    panel.add(elem.label, elem.part, abs_pos=elem.get_pos())\n",
    "\n",
    "panel.assemble()\n",
    "\n",
    "show(panel.panel_with_debug)"
   ]
  },
  {
   "cell_type": "markdown",
   "id": "4919a9c1-d39d-411c-865f-742d0d1dca98",
   "metadata": {},
   "source": [
    "# 09 – Layout builder: fixed-width line with median part centred at 0,0"
   ]
  },
  {
   "cell_type": "code",
   "execution_count": 26,
   "id": "917c2ccf-617e-42e5-9fe9-fdd0e9cd4df4",
   "metadata": {},
   "outputs": [
    {
     "name": "stdout",
     "output_type": "stream",
     "text": [
      "VALIDATING CLASS: ButtonSpstPbs24b4Part\n",
      "VALIDATING CLASS: UsbA30VerticalCltgxddPart\n",
      "VALIDATING CLASS: EncoderEc11Part\n",
      "[My project v1.0.0] TOP: adding part 'Button'\n",
      "[My project v1.0.0] TOP: adding part 'USB'\n",
      "[My project v1.0.0] TOP: adding part 'Encoder'\n",
      "100% ⋮————————————————————————————————————————————————————————————⋮ (24/24)  2.97s\n"
     ]
    }
   ],
   "source": [
    "pf.set_default_types({\n",
    "    \"usb_a\": '3.0 vertical cltgxdd',\n",
    "    \"button\": 'SPST PBS-24B-4',\n",
    "    \"encoder\": 'EC11',\n",
    "})\n",
    "pf.set_default_parameters({\"enclosure_wall_thickness\": 2})\n",
    "\n",
    "WIDTH = 100\n",
    "LENGTH = 38\n",
    "\n",
    "panel = Panel(Face.TOP, WIDTH, LENGTH, 2)\n",
    "\n",
    "button_element = LayoutElement(\"Button\", pf.build_button())\n",
    "usb_element = LayoutElement(\"USB\", pf.build_usb_a())\n",
    "encoder_element = LayoutElement(\"Encoder\", pf.build_encoder())\n",
    "button_element.set_footprints_x(encoder_element.total_footprint[0])\n",
    "\n",
    "# A hacky way to keep the middle element's center at (0,0) is to override the footprint\n",
    "#   of the element[s] on its left and the element[s] of its right to be equal\n",
    "# The margins, of course, won't be equal, but it can work better for some layout\n",
    "#   (see Octopus' front panel for example: we want the screen at 0,0)\n",
    "\n",
    "group = LayoutGroup.fixed_width_line_of_elements(\n",
    "    WIDTH,\n",
    "    [button_element, usb_element, encoder_element],\n",
    "    horizontal=True,\n",
    "    add_margin_on_sides=True,\n",
    "    group_center_at_0_0=False,\n",
    "    elements_centers_at_0_0=True,\n",
    "    align_to_outside_footprint=True,\n",
    ")\n",
    "\n",
    "group.translate([0, LENGTH/2, 0])\n",
    "for idx, elem in enumerate(group.get_elements()):\n",
    "    panel.add(elem.label, elem.part, abs_pos=elem.get_pos())\n",
    "panel.assemble()\n",
    "show(panel.panel_with_debug)"
   ]
  },
  {
   "cell_type": "markdown",
   "id": "6cbfb5fc-a231-4ba4-bfce-ff9f439923ac",
   "metadata": {},
   "source": [
    "# 10 – Layout builder: grid of parts"
   ]
  },
  {
   "cell_type": "code",
   "execution_count": 27,
   "id": "fd783ea4-8ac1-4581-bb50-e96a3445f767",
   "metadata": {},
   "outputs": [
    {
     "name": "stdout",
     "output_type": "stream",
     "text": [
      "VALIDATING CLASS: Jack6_35mmPj612aPart\n",
      "[My project v1.0.0] TOP: adding part 'Jack 6.35 1-1'\n",
      "[My project v1.0.0] TOP: adding part 'Jack 6.35 1-2'\n",
      "[My project v1.0.0] TOP: adding part 'Jack 6.35 1-3'\n",
      "[My project v1.0.0] TOP: adding part 'Jack 6.35 1-4'\n",
      "[My project v1.0.0] TOP: adding part 'Jack 6.35 1-5'\n",
      "[My project v1.0.0] TOP: adding part 'Jack 6.35 2-1'\n",
      "[My project v1.0.0] TOP: adding part 'Jack 6.35 2-2'\n",
      "[My project v1.0.0] TOP: adding part 'Jack 6.35 2-3'\n",
      "[My project v1.0.0] TOP: adding part 'Jack 6.35 2-4'\n",
      "[My project v1.0.0] TOP: adding part 'Jack 6.35 2-5'\n",
      "100% ⋮————————————————————————————————————————————————————————————⋮ (64/64)  0.77s\n"
     ]
    }
   ],
   "source": [
    "pf.set_default_types({\"jack\": '6.35mm PJ-612A'})\n",
    "pf.set_default_parameters({\"enclosure_wall_thickness\": 2})\n",
    "\n",
    "panel = Panel(Face.TOP, 100, 38, 2)\n",
    "\n",
    "jacks_grid = LayoutGroup.grid_of_part(\n",
    "    \"Jack 6.35\",\n",
    "    pf.build_jack(),\n",
    "    rows=2,\n",
    "    cols=5,\n",
    "    margin_rows=0,\n",
    "    margin_cols=2,\n",
    ")\n",
    "\n",
    "for idx, elem in enumerate(jacks_grid.get_elements()):\n",
    "    panel.add(elem.label, elem.part, rel_pos=elem.get_pos())\n",
    "panel.assemble()\n",
    "show(panel.panel_with_debug)"
   ]
  },
  {
   "cell_type": "markdown",
   "id": "92b74b5c-1887-47de-b32b-08fbaa2cee39",
   "metadata": {},
   "source": [
    "# 11 – Layout builder: combining groups"
   ]
  },
  {
   "cell_type": "code",
   "execution_count": 28,
   "id": "94cebe6f-fede-48f3-97ae-bbff0d3f4789",
   "metadata": {},
   "outputs": [
    {
     "name": "stdout",
     "output_type": "stream",
     "text": [
      "VALIDATING CLASS: Jack6_35mmPj612aPart\n",
      "VALIDATING CLASS: Jack3_5mmXxxPart\n",
      "VALIDATING CLASS: UsbA30VerticalCltgxddPart\n",
      "[My project v1.0.0] TOP: adding part 'Jack 6.35 1-1'\n",
      "[My project v1.0.0] TOP: adding part 'Jack 6.35 1-2'\n",
      "[My project v1.0.0] TOP: adding part 'Jack 6.35 1-3'\n",
      "[My project v1.0.0] TOP: adding part 'Jack 6.35 1-4'\n",
      "[My project v1.0.0] TOP: adding part 'Jack 6.35 1-5'\n",
      "[My project v1.0.0] TOP: adding part 'Jack 6.35 2-1'\n",
      "[My project v1.0.0] TOP: adding part 'Jack 6.35 2-2'\n",
      "[My project v1.0.0] TOP: adding part 'Jack 6.35 2-3'\n",
      "[My project v1.0.0] TOP: adding part 'Jack 6.35 2-4'\n",
      "[My project v1.0.0] TOP: adding part 'Jack 6.35 2-5'\n",
      "[My project v1.0.0] TOP: adding part 'Jack 3.5 1-1'\n",
      "[My project v1.0.0] TOP: adding part 'Jack 3.5 1-2'\n",
      "[My project v1.0.0] TOP: adding part 'Jack 3.5 1-3'\n",
      "[My project v1.0.0] TOP: adding part 'Jack 3.5 2-1'\n",
      "[My project v1.0.0] TOP: adding part 'Jack 3.5 2-2'\n",
      "[My project v1.0.0] TOP: adding part 'Jack 3.5 2-3'\n",
      "[My project v1.0.0] TOP: adding part 'Jack 3.5 3-1'\n",
      "[My project v1.0.0] TOP: adding part 'Jack 3.5 3-2'\n",
      "[My project v1.0.0] TOP: adding part 'Jack 3.5 3-3'\n",
      "[My project v1.0.0] TOP: adding part 'Jack 3.5 4-1'\n",
      "[My project v1.0.0] TOP: adding part 'Jack 3.5 4-2'\n",
      "[My project v1.0.0] TOP: adding part 'Jack 3.5 4-3'\n",
      "[My project v1.0.0] TOP: adding part 'USB'\n",
      "100% ⋮————————————————————————————————————————————————————————————⋮ (140/140)  4.09s\n"
     ]
    }
   ],
   "source": [
    "pf.set_default_parameters({\"enclosure_wall_thickness\": 2})\n",
    "\n",
    "panel = Panel(Face.TOP, 200, 80, 2)\n",
    "\n",
    "jacks_grid_1 = LayoutGroup.grid_of_part(\"Jack 6.35\", pf.build_jack(part_type=\"6.35mm PJ-612A\"), rows=2, cols=5, margin_rows=5, margin_cols=2)\n",
    "jacks_grid_2 = LayoutGroup.grid_of_part(\"Jack 3.5\", pf.build_jack(part_type=\"3.5mm XXX\"), rows=4, cols=3, margin_rows=0, margin_cols=0)\n",
    "one_usb = LayoutElement(\"USB\", pf.build_usb_a(part_type=\"3.0 vertical cltgxdd\"))\n",
    "\n",
    "all_jacks = LayoutGroup.fixed_width_line_of_elements(\n",
    "    200,\n",
    "    [jacks_grid_1, jacks_grid_2, one_usb],\n",
    "    align_to_outside_footprint=True,\n",
    ")\n",
    "\n",
    "for idx, elem in enumerate(all_jacks.get_elements()):\n",
    "    panel.add(elem.label, elem.part, rel_pos=elem.get_pos())\n",
    "panel.assemble()\n",
    "show(panel.panel_with_debug)"
   ]
  },
  {
   "cell_type": "markdown",
   "id": "e57f89d2-b9f7-435b-b8d0-76224a12a0a4",
   "metadata": {},
   "source": [
    "# 12 – Text"
   ]
  },
  {
   "cell_type": "code",
   "execution_count": 30,
   "id": "32cf4e5e-b3a7-44f5-af96-2f27e3a24f6c",
   "metadata": {},
   "outputs": [
    {
     "name": "stdout",
     "output_type": "stream",
     "text": [
      "[My project v1.0.0] TOP: adding part 'Skirt'\n",
      "VALIDATING CLASS: TextPart\n",
      "VALIDATING CLASS: TextPart\n",
      "[My project v1.0.0] TOP: adding part 'Extruded'\n",
      "[My project v1.0.0] TOP: adding part 'Cut'\n",
      "100% ⋮————————————————————————————————————————————————————————————⋮ (24/24)  0.80s\n"
     ]
    }
   ],
   "source": [
    "enclosure_size = EnclosureSize(180, 90, 38, 2)\n",
    "enclosure = Enclosure(enclosure_size)\n",
    "\n",
    "pf.set_default_types({\"text\": 'default'})\n",
    "pf.set_default_parameters({\"enclosure_wall_thickness\": 2})\n",
    "\n",
    "extruded_text = pf.build_text(\n",
    "    text = \"Sample text\\nA new line\",\n",
    ")\n",
    "\n",
    "cut_text = pf.build_text(\n",
    "    text = \"Hello\",\n",
    "    thickness = 5.6,\n",
    "    cut = True,\n",
    "    fontsize = 8,\n",
    "    width = 30,\n",
    "    length = 9,\n",
    "    outside = True,\n",
    ")\n",
    "\n",
    "enclosure.add_part_to_face(Face.TOP, \"Extruded\", extruded_text, rel_pos=(0, -6))\n",
    "enclosure.add_part_to_face(Face.TOP, \"Cut\", cut_text, rel_pos=(0, 10))\n",
    "\n",
    "enclosure.assemble()\n",
    "\n",
    "show(enclosure.assembly, hide_contains=[\"BOTTOM\", \"FRONT\", \"RIGHT\"])"
   ]
  },
  {
   "cell_type": "markdown",
   "id": "e4c987a5-8510-4325-8aa9-abd7dc317546",
   "metadata": {},
   "source": [
    "# 13 – Support for parts"
   ]
  },
  {
   "cell_type": "code",
   "execution_count": 36,
   "id": "ac4f7feb-8ec6-431c-9a95-ce26451aa5b3",
   "metadata": {},
   "outputs": [
    {
     "name": "stdout",
     "output_type": "stream",
     "text": [
      "[My project v1.0.0] TOP: adding part 'Skirt'\n",
      "VALIDATING CLASS: ButtonSpstPbs24b4Part\n",
      "VALIDATING CLASS: PyramidSupportPart\n",
      "[My project v1.0.0] TOP: adding part 'SPST'\n",
      "[My project v1.0.0] BOTTOM: adding part 'Support for SPST'\n",
      "100% ⋮————————————————————————————————————————————————————————————⋮ (47/47)  0.69s\n"
     ]
    }
   ],
   "source": [
    "enclosure_size = EnclosureSize(180, 90, 38, 2)\n",
    "enclosure = Enclosure(enclosure_size)\n",
    "\n",
    "pf.set_default_types({\n",
    "    \"button\": 'SPST PBS-24B-4',\n",
    "    \"support\": 'pyramid',\n",
    "})\n",
    "pf.set_default_parameters({\"enclosure_wall_thickness\": 2})\n",
    "\n",
    "spst = pf.build_button()\n",
    "\n",
    "support_height = enclosure_size.outer_thickness - spst.inside_footprint_thickness - enclosure_size.wall_thickness\n",
    "support = pf.build_support(support_height=support_height)\n",
    "\n",
    "enclosure.add_part_to_face(Face.TOP, \"SPST\", spst, rel_pos=(-10, 0))\n",
    "enclosure.add_part_to_face(Face.BOTTOM, \"Support for SPST\", support, rel_pos=(-10, 0))\n",
    "\n",
    "enclosure.assemble()\n",
    "\n",
    "# To view how, inside the enclosure, a pillar is supporting the button from underneath,\n",
    "#   you'll want to enable the wireframe mode (or use Jupyter-CadQuery for more control)\n",
    "show(enclosure.assembly_with_debug, hide_contains=[\"Printables\", \"FRONT\", \"RIGHT\"])"
   ]
  },
  {
   "cell_type": "markdown",
   "id": "4500b376-7081-4ccb-93e5-2b31e80a3ce2",
   "metadata": {},
   "source": [
    "# 14 – All parts"
   ]
  },
  {
   "cell_type": "code",
   "execution_count": 37,
   "id": "78803aad-9254-4d2a-8fda-2fab0217ce45",
   "metadata": {},
   "outputs": [
    {
     "name": "stdout",
     "output_type": "stream",
     "text": [
      "VALIDATING CLASS: Jack6_35mmPj612aPart\n",
      "VALIDATING CLASS: Jack3_5mmXxxPart\n",
      "VALIDATING CLASS: ButtonSpstPbs24b4Part\n",
      "VALIDATING CLASS: ButtonDpdtPbs24212SpPart\n",
      "VALIDATING CLASS: ButtonPbs11aPart\n",
      "VALIDATING CLASS: ButtonPbs110Part\n",
      "VALIDATING CLASS: EncoderEc11Part\n",
      "VALIDATING CLASS: PotentiometerWh148Part\n",
      "VALIDATING CLASS: UsbA30VerticalCltgxddPart\n",
      "VALIDATING CLASS: UsbCChengHaoRanEPart\n",
      "VALIDATING CLASS: Hdmi5InchJrp5015Part\n",
      "TAPER ANGLE: 25.016893478099945 for ramp 2.8 ratio 1.5\n",
      "VALIDATING CLASS: Dsi5InchXxxPart\n",
      "VALIDATING CLASS: RectAirVentPart\n",
      "VALIDATING CLASS: Banana4mmPart\n",
      "VALIDATING CLASS: BarrelPlugDc022bPart\n",
      "VALIDATING CLASS: RcaN1030Part\n",
      "VALIDATING CLASS: PyramidSupportPart\n",
      "VALIDATING CLASS: SkirtPart\n",
      "VALIDATING CLASS: ToggleMts103Part\n",
      "VALIDATING CLASS: MidiSd50SnPart\n",
      "VALIDATING CLASS: Pi4HolderPart\n",
      "VALIDATING CLASS: ProtoboardHolderPart\n",
      "VALIDATING CLASS: TextPart\n",
      "[My project v1.0.0] TOP: adding part '6.35mm PJ-612A'\n",
      "[My project v1.0.0] TOP: adding part '3.5mm XXX'\n",
      "[My project v1.0.0] TOP: adding part 'SPST PBS-24B-4'\n",
      "[My project v1.0.0] TOP: adding part 'DPDT PBS-24-212SP'\n",
      "[My project v1.0.0] TOP: adding part 'PBS 11-A'\n",
      "[My project v1.0.0] TOP: adding part 'PBS-110'\n",
      "[My project v1.0.0] TOP: adding part 'EC11'\n",
      "[My project v1.0.0] TOP: adding part 'WH148'\n",
      "[My project v1.0.0] TOP: adding part '3.0 vertical cltgxdd'\n",
      "[My project v1.0.0] TOP: adding part 'ChengHaoRan E'\n",
      "[My project v1.0.0] TOP: adding part 'HDMI 5 inch JRP5015'\n",
      "[My project v1.0.0] TOP: adding part 'DSI 5 inch XXX'\n",
      "[My project v1.0.0] TOP: adding part 'basic rectangular'\n",
      "[My project v1.0.0] TOP: adding part '4mm'\n",
      "[My project v1.0.0] TOP: adding part 'DC-022B'\n",
      "[My project v1.0.0] TOP: adding part 'N1030'\n",
      "[My project v1.0.0] TOP: adding part 'pyramid'\n",
      "[My project v1.0.0] TOP: adding part 'skirt'\n",
      "[My project v1.0.0] TOP: adding part 'MTS-103'\n",
      "[My project v1.0.0] TOP: adding part 'SD-50SN'\n",
      "[My project v1.0.0] TOP: adding part 'RPi 4B'\n",
      "[My project v1.0.0] TOP: adding part 'Protoboard'\n",
      "[My project v1.0.0] TOP: adding part 'default'\n",
      "100% ⋮————————————————————————————————————————————————————————————⋮ (136/136) 14.56s\n"
     ]
    }
   ],
   "source": [
    "pf.set_default_parameters({\n",
    "    \"enclosure_wall_thickness\": 2,\n",
    "    \"support_height\": 10,  # used by support/pyramid\n",
    "    \"width\": 6,\n",
    "    \"length\": 5,\n",
    "})\n",
    "# Will break if new Parts with arguments without default values are added\n",
    "\n",
    "panel = Panel(Face.TOP, 0.1, 0.1, 0.1)  # not caring about the panel size\n",
    "\n",
    "lines = []\n",
    "\n",
    "for category in pf.list_categories():\n",
    "    part_types = pf.list_types_for_category(category)\n",
    "    parts = []\n",
    "    for part_type in part_types:\n",
    "        parts.append((part_type, pf.build(category=category, part_type=part_type)))\n",
    "\n",
    "    group = LayoutGroup.line_of_parts(\n",
    "        parts,\n",
    "        margin=5,\n",
    "        horizontal=True,\n",
    "        group_center_at_0_0=True,\n",
    "    )\n",
    "    lines.append(group)\n",
    "\n",
    "group_of_groups = LayoutGroup.line_of_elements(\n",
    "    lines,\n",
    "    margin=15,\n",
    "    horizontal=False,\n",
    "    group_center_at_0_0=True,\n",
    ")\n",
    "\n",
    "for idx, elem in enumerate(group_of_groups.get_elements()):\n",
    "    panel.add(elem.label, elem.part, rel_pos=elem.get_pos())\n",
    "\n",
    "panel.assemble()\n",
    "\n",
    "show(panel.panel_with_debug)"
   ]
  },
  {
   "cell_type": "code",
   "execution_count": null,
   "id": "3fbce38f-4497-427c-a192-90d9af596cce",
   "metadata": {},
   "outputs": [],
   "source": []
  }
 ],
 "metadata": {
  "kernelspec": {
   "display_name": "Python 3 (ipykernel)",
   "language": "python",
   "name": "python3"
  },
  "language_info": {
   "codemirror_mode": {
    "name": "ipython",
    "version": 3
   },
   "file_extension": ".py",
   "mimetype": "text/x-python",
   "name": "python",
   "nbconvert_exporter": "python",
   "pygments_lexer": "ipython3",
   "version": "3.10.10"
  }
 },
 "nbformat": 4,
 "nbformat_minor": 5
}
